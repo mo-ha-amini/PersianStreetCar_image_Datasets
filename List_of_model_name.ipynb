{
 "cells": [
  {
   "cell_type": "code",
   "execution_count": 76,
   "metadata": {},
   "outputs": [],
   "source": [
    "from selenium import webdriver\n",
    "from selenium.webdriver.common.by import By\n",
    "from selenium.webdriver.support.wait import WebDriverWait\n",
    "from selenium.webdriver.support import expected_conditions as EC\n",
    "from selenium.webdriver.common.action_chains import ActionChains\n",
    "import time\n",
    "\n",
    "from tqdm import tqdm"
   ]
  },
  {
   "cell_type": "code",
   "execution_count": 94,
   "metadata": {},
   "outputs": [
    {
     "name": "stderr",
     "output_type": "stream",
     "text": [
      "/tmp/ipykernel_49895/1351430012.py:1: DeprecationWarning: executable_path has been deprecated, please pass in a Service object\n",
      "  driver = webdriver.Chrome(executable_path=\"/home/mohammadhasan/MyCodes/ChromeDriver/chromedriver\")\n"
     ]
    }
   ],
   "source": [
    "driver = webdriver.Chrome(executable_path=\"/home/mohammadhasan/MyCodes/ChromeDriver/chromedriver\")"
   ]
  },
  {
   "cell_type": "code",
   "execution_count": 155,
   "metadata": {},
   "outputs": [
    {
     "name": "stdout",
     "output_type": "stream",
     "text": [
      "106\n"
     ]
    }
   ],
   "source": [
    "driver.get('https://bama.ir/car?image=1')\n",
    "chose_filter = driver.find_element(By.XPATH, '//*[@id=\"__layout\"]/div/div/section/div[2]/aside/div/div[2]/div/div[1]/div/div[1]')\n",
    "chose_filter.click()\n",
    "list_of_Brand = driver.find_elements(By.CSS_SELECTOR, \"#__layout > div > div > section > div.bama-adlist-content-holder > aside > div > div:nth-child(2) > div > div.stepped-selection-wrapper > div > div.stepped-selection__modal > div.stepped-selection__list > div\")\n",
    "print(len(list_of_Brand))"
   ]
  },
  {
   "cell_type": "code",
   "execution_count": 156,
   "metadata": {},
   "outputs": [],
   "source": [
    "def all_brand_name():\n",
    "    driver.get('https://bama.ir/car?image=1')\n",
    "    chose_filter = driver.find_element(By.XPATH, '//*[@id=\"__layout\"]/div/div/section/div[2]/aside/div/div[2]/div/div[1]/div/div[1]')\n",
    "    chose_filter.click()\n",
    "    time.sleep(1)\n",
    "    list_of_Brand = driver.find_elements(By.CSS_SELECTOR, \"#__layout > div > div > section > div.bama-adlist-content-holder > aside > div > div:nth-child(2) > div > div.stepped-selection-wrapper > div > div.stepped-selection__modal > div.stepped-selection__list > div\")\n",
    "    return list_of_Brand"
   ]
  },
  {
   "cell_type": "code",
   "execution_count": 157,
   "metadata": {},
   "outputs": [],
   "source": [
    "brand_arry = []\n",
    "model_arry = []\n",
    "brand_arry_fa = []\n",
    "model_arry_fa = []"
   ]
  },
  {
   "cell_type": "code",
   "execution_count": 158,
   "metadata": {},
   "outputs": [
    {
     "name": "stderr",
     "output_type": "stream",
     "text": [
      "100%|██████████| 106/106 [06:26<00:00,  3.64s/it]\n"
     ]
    }
   ],
   "source": [
    "for i in tqdm(range(len(list_of_Brand))):\n",
    "    actions = ActionChains(driver)\n",
    "\n",
    "    if i > len(list_of_Brand) - 7:\n",
    "        driver.execute_script(\"arguments[0].scrollIntoView();\", list_of_Brand[len(list_of_Brand) - 1])\n",
    " \n",
    "    else :\n",
    "        actions.move_to_element(list_of_Brand[i+6]).perform()\n",
    "\n",
    "\n",
    "    # WebDriverWait(driver, 20).until(EC.element_to_be_clickable((list_of_Brand[i])))\n",
    "    # driver.execute_script(\"arguments[0].click();\", WebDriverWait(driver, 20).until(EC.element_to_be_clickable((list_of_Brand[i]))))\n",
    "    list_of_Brand[i].click()\n",
    "    brand_element = driver.find_elements(By.CSS_SELECTOR, '#__layout > div > div > section > div.bama-adlist-content-holder > aside > div > div:nth-child(2) > div > div.stepped-selection-wrapper > div > div.stepped-selection__modal > div.stepped-selection__list > div')\n",
    "    \n",
    "    for j, _ in enumerate(brand_element):\n",
    "\n",
    "        if j == 0:\n",
    "            brand = brand_element[j].get_attribute('data-trackervalue')\n",
    "            brand_arry.append(brand.strip())\n",
    "\n",
    "            brand_fa = brand_element[j].text.replace('همه مدل های', '')\n",
    "            brand_fa = brand_fa.replace(' ','-').strip()\n",
    "            brand_arry_fa.append(brand_fa)\n",
    "\n",
    "        else:\n",
    "            model = brand_element[j].get_attribute('data-trackervalue')\n",
    "            \n",
    "            model = str(model).replace(',','-')\n",
    "            model_arry.append(model.strip())\n",
    "\n",
    "\n",
    "            model_fa = brand_element[j].text\n",
    "            model_fa = model_fa.replace(' ','-')\n",
    "            model_arry_fa.append(model_fa.strip())\n",
    "\n",
    "            # print(model)\n",
    "            # print(model_fa)\n",
    "\n",
    "    time.sleep(1)\n",
    "    list_of_Brand = all_brand_name()"
   ]
  },
  {
   "cell_type": "code",
   "execution_count": 165,
   "metadata": {},
   "outputs": [
    {
     "name": "stdout",
     "output_type": "stream",
     "text": [
      "540\n"
     ]
    }
   ],
   "source": [
    "print(len(model_arry))"
   ]
  },
  {
   "cell_type": "code",
   "execution_count": 166,
   "metadata": {},
   "outputs": [],
   "source": [
    "# url = f'https://bama.ir/car/{model_arry[1]}?image=1'\n",
    "# driver.get(url)"
   ]
  },
  {
   "cell_type": "code",
   "execution_count": 167,
   "metadata": {},
   "outputs": [],
   "source": [
    "import numpy as np\n",
    "\n",
    "model_arry = np.array(model_arry)\n",
    "np.savetxt('./CarModels.txt', model_arry, fmt='%s')\n",
    "model_arry_loaded = np.loadtxt('./CarModels.txt', dtype=str)\n",
    "\n",
    "# model_arry == model_arry"
   ]
  },
  {
   "cell_type": "code",
   "execution_count": 168,
   "metadata": {},
   "outputs": [],
   "source": [
    "brand_arry = np.array(brand_arry)\n",
    "np.savetxt('./CarBrands.txt', brand_arry, fmt='%s')\n",
    "brand_arry_loaded = np.loadtxt('./CarBrands.txt', dtype=str)"
   ]
  },
  {
   "cell_type": "code",
   "execution_count": 169,
   "metadata": {},
   "outputs": [],
   "source": [
    "brand_arry_fa = np.array(brand_arry_fa)\n",
    "np.savetxt('./CarBrands_fa.txt', brand_arry_fa, fmt='%s')\n",
    "brand_arry_fa_loaded = np.loadtxt('./CarBrands_fa.txt', dtype=str)"
   ]
  },
  {
   "cell_type": "code",
   "execution_count": 170,
   "metadata": {},
   "outputs": [],
   "source": [
    "model_arry_fa = np.array(model_arry_fa)\n",
    "np.savetxt('./CarModels_fa.txt', model_arry_fa, fmt='%s')\n",
    "model_arry_fa_loaded = np.loadtxt('./CarModels_fa.txt', dtype=str)"
   ]
  },
  {
   "cell_type": "code",
   "execution_count": null,
   "metadata": {},
   "outputs": [],
   "source": []
  },
  {
   "cell_type": "code",
   "execution_count": null,
   "metadata": {},
   "outputs": [],
   "source": []
  }
 ],
 "metadata": {
  "kernelspec": {
   "display_name": "Python 3.10.7 64-bit",
   "language": "python",
   "name": "python3"
  },
  "language_info": {
   "codemirror_mode": {
    "name": "ipython",
    "version": 3
   },
   "file_extension": ".py",
   "mimetype": "text/x-python",
   "name": "python",
   "nbconvert_exporter": "python",
   "pygments_lexer": "ipython3",
   "version": "3.10.7"
  },
  "orig_nbformat": 4,
  "vscode": {
   "interpreter": {
    "hash": "916dbcbb3f70747c44a77c7bcd40155683ae19c65e1c03b4aa3499c5328201f1"
   }
  }
 },
 "nbformat": 4,
 "nbformat_minor": 2
}
